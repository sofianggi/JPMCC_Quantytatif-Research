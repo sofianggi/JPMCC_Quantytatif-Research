{
  "cells": [
    {
      "cell_type": "markdown",
      "source": [
        "#**CREDIT RISK ANALYSIS**"
      ],
      "metadata": {
        "id": "txkbWdyidQaM"
      }
    },
    {
      "cell_type": "markdown",
      "source": [
        "#Import Library"
      ],
      "metadata": {
        "id": "9PbEvdaKdquV"
      }
    },
    {
      "cell_type": "code",
      "source": [
        "import numpy as np\n",
        "import pandas as pd\n",
        "import matplotlib.pyplot as plt\n",
        "from sklearn.linear_model import LogisticRegression\n",
        "from sklearn import metrics\n",
        "from sklearn.model_selection import train_test_split\n",
        "from sklearn.preprocessing import StandardScaler\n",
        "from sklearn.metrics import classification_report, roc_auc_score, confusion_matrix"
      ],
      "metadata": {
        "id": "rBxEwIWAd2Ee"
      },
      "execution_count": null,
      "outputs": []
    },
    {
      "cell_type": "code",
      "source": [
        "from google.colab import drive\n",
        "drive.mount('/content/drive')"
      ],
      "metadata": {
        "colab": {
          "base_uri": "https://localhost:8080/"
        },
        "id": "Gzr-2EgmeAW7",
        "outputId": "71350f01-e6b2-48e4-9f11-0502607c44d4"
      },
      "execution_count": null,
      "outputs": [
        {
          "output_type": "stream",
          "name": "stdout",
          "text": [
            "Mounted at /content/drive\n"
          ]
        }
      ]
    },
    {
      "cell_type": "markdown",
      "source": [
        "#Loan Dataset"
      ],
      "metadata": {
        "id": "QBJt24pJd3Xo"
      }
    },
    {
      "cell_type": "code",
      "source": [
        "# Load dataset\n",
        "data = pd.read_csv('/content/drive/MyDrive/JP MORGAN/Loan_Data.csv')"
      ],
      "metadata": {
        "id": "tJp-Jnujd5pc"
      },
      "execution_count": null,
      "outputs": []
    },
    {
      "cell_type": "code",
      "source": [
        "# Data exploration\n",
        "print(data.head())\n",
        "print(data.describe())\n",
        "print(data.info())"
      ],
      "metadata": {
        "colab": {
          "base_uri": "https://localhost:8080/"
        },
        "id": "x0tZ2fEmewgq",
        "outputId": "b00d1e28-8cf0-4f14-a64e-c436d5364d86"
      },
      "execution_count": null,
      "outputs": [
        {
          "output_type": "stream",
          "name": "stdout",
          "text": [
            "   customer_id  credit_lines_outstanding  loan_amt_outstanding  \\\n",
            "0      8153374                         0           5221.545193   \n",
            "1      7442532                         5           1958.928726   \n",
            "2      2256073                         0           3363.009259   \n",
            "3      4885975                         0           4766.648001   \n",
            "4      4700614                         1           1345.827718   \n",
            "\n",
            "   total_debt_outstanding       income  years_employed  fico_score  default  \n",
            "0             3915.471226  78039.38546               5         605        0  \n",
            "1             8228.752520  26648.43525               2         572        1  \n",
            "2             2027.830850  65866.71246               4         602        0  \n",
            "3             2501.730397  74356.88347               5         612        0  \n",
            "4             1768.826187  23448.32631               6         631        0  \n",
            "        customer_id  credit_lines_outstanding  loan_amt_outstanding  \\\n",
            "count  1.000000e+04              10000.000000          10000.000000   \n",
            "mean   4.974577e+06                  1.461200           4159.677034   \n",
            "std    2.293890e+06                  1.743846           1421.399078   \n",
            "min    1.000324e+06                  0.000000             46.783973   \n",
            "25%    2.977661e+06                  0.000000           3154.235371   \n",
            "50%    4.989502e+06                  1.000000           4052.377228   \n",
            "75%    6.967210e+06                  2.000000           5052.898103   \n",
            "max    8.999789e+06                  5.000000          10750.677810   \n",
            "\n",
            "       total_debt_outstanding         income  years_employed    fico_score  \\\n",
            "count            10000.000000   10000.000000    10000.000000  10000.000000   \n",
            "mean              8718.916797   70039.901401        4.552800    637.557700   \n",
            "std               6627.164762   20072.214143        1.566862     60.657906   \n",
            "min                 31.652732    1000.000000        0.000000    408.000000   \n",
            "25%               4199.836020   56539.867903        3.000000    597.000000   \n",
            "50%               6732.407217   70085.826330        5.000000    638.000000   \n",
            "75%              11272.263740   83429.166133        6.000000    679.000000   \n",
            "max              43688.784100  148412.180500       10.000000    850.000000   \n",
            "\n",
            "            default  \n",
            "count  10000.000000  \n",
            "mean       0.185100  \n",
            "std        0.388398  \n",
            "min        0.000000  \n",
            "25%        0.000000  \n",
            "50%        0.000000  \n",
            "75%        0.000000  \n",
            "max        1.000000  \n",
            "<class 'pandas.core.frame.DataFrame'>\n",
            "RangeIndex: 10000 entries, 0 to 9999\n",
            "Data columns (total 8 columns):\n",
            " #   Column                    Non-Null Count  Dtype  \n",
            "---  ------                    --------------  -----  \n",
            " 0   customer_id               10000 non-null  int64  \n",
            " 1   credit_lines_outstanding  10000 non-null  int64  \n",
            " 2   loan_amt_outstanding      10000 non-null  float64\n",
            " 3   total_debt_outstanding    10000 non-null  float64\n",
            " 4   income                    10000 non-null  float64\n",
            " 5   years_employed            10000 non-null  int64  \n",
            " 6   fico_score                10000 non-null  int64  \n",
            " 7   default                   10000 non-null  int64  \n",
            "dtypes: float64(3), int64(5)\n",
            "memory usage: 625.1 KB\n",
            "None\n"
          ]
        }
      ]
    },
    {
      "cell_type": "markdown",
      "source": [
        "#Preprocessing"
      ],
      "metadata": {
        "id": "lmAmiqYIJpC7"
      }
    },
    {
      "cell_type": "code",
      "source": [
        "# Define feature columns\n",
        "features = ['credit_lines_outstanding', 'debt_to_income', 'payment_to_income', 'years_employed', 'fico_score']"
      ],
      "metadata": {
        "id": "C-wBkpnM2jkr"
      },
      "execution_count": null,
      "outputs": []
    },
    {
      "cell_type": "code",
      "source": [
        "# Calculate payment_to_income ratio\n",
        "data['payment_to_income'] = data['loan_amt_outstanding'] / data['income']\n",
        "\n",
        "# Calculate debt_to_income ratio\n",
        "data['debt_to_income'] = data['total_debt_outstanding'] / data['income']"
      ],
      "metadata": {
        "id": "zPp8unA63pP6"
      },
      "execution_count": null,
      "outputs": []
    },
    {
      "cell_type": "code",
      "source": [
        "# Prepare features and target variable\n",
        "X = data[features]\n",
        "y = data['default']\n",
        "\n",
        "# Train-test split\n",
        "X_train, X_test, y_train, y_test = train_test_split(X, y, test_size=0.3, random_state=42)"
      ],
      "metadata": {
        "id": "xOjF8Szz3qfT"
      },
      "execution_count": null,
      "outputs": []
    },
    {
      "cell_type": "code",
      "source": [
        "# Standardize the data\n",
        "scaler = StandardScaler()\n",
        "X_train_scaled = scaler.fit_transform(X_train)\n",
        "X_test_scaled = scaler.transform(X_test)"
      ],
      "metadata": {
        "id": "2HRaFh634cJN"
      },
      "execution_count": null,
      "outputs": []
    },
    {
      "cell_type": "code",
      "source": [
        "# Initialize and train the logistic regression model\n",
        "clf = LogisticRegression(random_state=0, solver='liblinear', tol=1e-5, max_iter=10000)\n",
        "clf.fit(X_train_scaled, y_train)"
      ],
      "metadata": {
        "colab": {
          "base_uri": "https://localhost:8080/",
          "height": 113
        },
        "id": "od9uDarA4Rf-",
        "outputId": "147b3fc3-33d7-4d28-c770-e22fe07bf010"
      },
      "execution_count": null,
      "outputs": [
        {
          "output_type": "execute_result",
          "data": {
            "text/plain": [
              "LogisticRegression(max_iter=10000, random_state=0, solver='liblinear',\n",
              "                   tol=1e-05)"
            ],
            "text/html": [
              "<style>#sk-container-id-1 {color: black;}#sk-container-id-1 pre{padding: 0;}#sk-container-id-1 div.sk-toggleable {background-color: white;}#sk-container-id-1 label.sk-toggleable__label {cursor: pointer;display: block;width: 100%;margin-bottom: 0;padding: 0.3em;box-sizing: border-box;text-align: center;}#sk-container-id-1 label.sk-toggleable__label-arrow:before {content: \"▸\";float: left;margin-right: 0.25em;color: #696969;}#sk-container-id-1 label.sk-toggleable__label-arrow:hover:before {color: black;}#sk-container-id-1 div.sk-estimator:hover label.sk-toggleable__label-arrow:before {color: black;}#sk-container-id-1 div.sk-toggleable__content {max-height: 0;max-width: 0;overflow: hidden;text-align: left;background-color: #f0f8ff;}#sk-container-id-1 div.sk-toggleable__content pre {margin: 0.2em;color: black;border-radius: 0.25em;background-color: #f0f8ff;}#sk-container-id-1 input.sk-toggleable__control:checked~div.sk-toggleable__content {max-height: 200px;max-width: 100%;overflow: auto;}#sk-container-id-1 input.sk-toggleable__control:checked~label.sk-toggleable__label-arrow:before {content: \"▾\";}#sk-container-id-1 div.sk-estimator input.sk-toggleable__control:checked~label.sk-toggleable__label {background-color: #d4ebff;}#sk-container-id-1 div.sk-label input.sk-toggleable__control:checked~label.sk-toggleable__label {background-color: #d4ebff;}#sk-container-id-1 input.sk-hidden--visually {border: 0;clip: rect(1px 1px 1px 1px);clip: rect(1px, 1px, 1px, 1px);height: 1px;margin: -1px;overflow: hidden;padding: 0;position: absolute;width: 1px;}#sk-container-id-1 div.sk-estimator {font-family: monospace;background-color: #f0f8ff;border: 1px dotted black;border-radius: 0.25em;box-sizing: border-box;margin-bottom: 0.5em;}#sk-container-id-1 div.sk-estimator:hover {background-color: #d4ebff;}#sk-container-id-1 div.sk-parallel-item::after {content: \"\";width: 100%;border-bottom: 1px solid gray;flex-grow: 1;}#sk-container-id-1 div.sk-label:hover label.sk-toggleable__label {background-color: #d4ebff;}#sk-container-id-1 div.sk-serial::before {content: \"\";position: absolute;border-left: 1px solid gray;box-sizing: border-box;top: 0;bottom: 0;left: 50%;z-index: 0;}#sk-container-id-1 div.sk-serial {display: flex;flex-direction: column;align-items: center;background-color: white;padding-right: 0.2em;padding-left: 0.2em;position: relative;}#sk-container-id-1 div.sk-item {position: relative;z-index: 1;}#sk-container-id-1 div.sk-parallel {display: flex;align-items: stretch;justify-content: center;background-color: white;position: relative;}#sk-container-id-1 div.sk-item::before, #sk-container-id-1 div.sk-parallel-item::before {content: \"\";position: absolute;border-left: 1px solid gray;box-sizing: border-box;top: 0;bottom: 0;left: 50%;z-index: -1;}#sk-container-id-1 div.sk-parallel-item {display: flex;flex-direction: column;z-index: 1;position: relative;background-color: white;}#sk-container-id-1 div.sk-parallel-item:first-child::after {align-self: flex-end;width: 50%;}#sk-container-id-1 div.sk-parallel-item:last-child::after {align-self: flex-start;width: 50%;}#sk-container-id-1 div.sk-parallel-item:only-child::after {width: 0;}#sk-container-id-1 div.sk-dashed-wrapped {border: 1px dashed gray;margin: 0 0.4em 0.5em 0.4em;box-sizing: border-box;padding-bottom: 0.4em;background-color: white;}#sk-container-id-1 div.sk-label label {font-family: monospace;font-weight: bold;display: inline-block;line-height: 1.2em;}#sk-container-id-1 div.sk-label-container {text-align: center;}#sk-container-id-1 div.sk-container {/* jupyter's `normalize.less` sets `[hidden] { display: none; }` but bootstrap.min.css set `[hidden] { display: none !important; }` so we also need the `!important` here to be able to override the default hidden behavior on the sphinx rendered scikit-learn.org. See: https://github.com/scikit-learn/scikit-learn/issues/21755 */display: inline-block !important;position: relative;}#sk-container-id-1 div.sk-text-repr-fallback {display: none;}</style><div id=\"sk-container-id-1\" class=\"sk-top-container\"><div class=\"sk-text-repr-fallback\"><pre>LogisticRegression(max_iter=10000, random_state=0, solver=&#x27;liblinear&#x27;,\n",
              "                   tol=1e-05)</pre><b>In a Jupyter environment, please rerun this cell to show the HTML representation or trust the notebook. <br />On GitHub, the HTML representation is unable to render, please try loading this page with nbviewer.org.</b></div><div class=\"sk-container\" hidden><div class=\"sk-item\"><div class=\"sk-estimator sk-toggleable\"><input class=\"sk-toggleable__control sk-hidden--visually\" id=\"sk-estimator-id-1\" type=\"checkbox\" checked><label for=\"sk-estimator-id-1\" class=\"sk-toggleable__label sk-toggleable__label-arrow\">LogisticRegression</label><div class=\"sk-toggleable__content\"><pre>LogisticRegression(max_iter=10000, random_state=0, solver=&#x27;liblinear&#x27;,\n",
              "                   tol=1e-05)</pre></div></div></div></div></div>"
            ]
          },
          "metadata": {},
          "execution_count": 9
        }
      ]
    },
    {
      "cell_type": "code",
      "source": [
        "# Output the coefficients and intercept of the logistic regression model\n",
        "print(\"Model Coefficients:\")\n",
        "print(clf.coef_)\n",
        "print(\"Model Intercept:\")\n",
        "print(clf.intercept_)"
      ],
      "metadata": {
        "colab": {
          "base_uri": "https://localhost:8080/"
        },
        "id": "wBRZwgAa3vT1",
        "outputId": "32a4a9ad-4f3b-49d7-eed9-137c06063806"
      },
      "execution_count": null,
      "outputs": [
        {
          "output_type": "stream",
          "name": "stdout",
          "text": [
            "Model Coefficients:\n",
            "[[ 5.67289086  2.9854371   0.13103547 -1.87256409 -0.86920378]]\n",
            "Model Intercept:\n",
            "[-9.33928707]\n"
          ]
        }
      ]
    },
    {
      "cell_type": "code",
      "source": [
        "# Predict and evaluate\n",
        "y_pred = clf.predict(X_test_scaled)\n",
        "y_pred_proba = clf.predict_proba(X_test_scaled)[:, 1]  # Probabilities"
      ],
      "metadata": {
        "id": "0xoWPpCJ31p7"
      },
      "execution_count": null,
      "outputs": []
    },
    {
      "cell_type": "code",
      "source": [
        "# Model Evaluation\n",
        "print(\"Logistic Regression:\")\n",
        "print(classification_report(y_test, y_pred))\n",
        "print(\"Confusion Matrix:\\n\", confusion_matrix(y_test, y_pred))"
      ],
      "metadata": {
        "colab": {
          "base_uri": "https://localhost:8080/"
        },
        "id": "0FjAbGMZ38zT",
        "outputId": "b26839a6-4199-4eb0-e88b-bf5a4a04b989"
      },
      "execution_count": null,
      "outputs": [
        {
          "output_type": "stream",
          "name": "stdout",
          "text": [
            "Logistic Regression:\n",
            "              precision    recall  f1-score   support\n",
            "\n",
            "           0       1.00      1.00      1.00      2459\n",
            "           1       1.00      0.99      0.99       541\n",
            "\n",
            "    accuracy                           1.00      3000\n",
            "   macro avg       1.00      0.99      1.00      3000\n",
            "weighted avg       1.00      1.00      1.00      3000\n",
            "\n",
            "Confusion Matrix:\n",
            " [[2459    0]\n",
            " [   8  533]]\n"
          ]
        }
      ]
    },
    {
      "cell_type": "code",
      "source": [
        "# Compute ROC curve\n",
        "fpr, tpr, thresholds = metrics.roc_curve(y_test, y_pred_proba)\n",
        "roc_auc = metrics.auc(fpr, tpr)"
      ],
      "metadata": {
        "id": "WRS1y7Hp3Rny"
      },
      "execution_count": null,
      "outputs": []
    },
    {
      "cell_type": "code",
      "source": [
        "# Print evaluation metrics\n",
        "print(\"Misclassification Rate:\")\n",
        "print((1.0 * (abs(y_test - y_pred)).sum()) / len(y_test))\n",
        "print(\"Area Under ROC Curve (AUC):\")\n",
        "print(roc_auc)"
      ],
      "metadata": {
        "colab": {
          "base_uri": "https://localhost:8080/"
        },
        "id": "MaE4Yumr5m1w",
        "outputId": "f2dd00dd-5e05-48f1-e8e1-938810592e63"
      },
      "execution_count": null,
      "outputs": [
        {
          "output_type": "stream",
          "name": "stdout",
          "text": [
            "Misclassification Rate:\n",
            "0.0026666666666666666\n",
            "Area Under ROC Curve (AUC):\n",
            "0.9999909796071469\n"
          ]
        }
      ]
    },
    {
      "cell_type": "markdown",
      "source": [
        "\n",
        "*   Misclassification Rate: 0.0 (or close to 0, around 0.0002667)\n",
        "\n",
        "    Interpretation: This indicates that the model used to predict the target on the test data has a very low misclassification rate, nearly 0. This means the model is very accurate in predicting correct outcomes, or in other words, the model's predictions almost entirely match the actual target.\n",
        "*   AUC (Area Under ROC Curve): 1.0\n",
        "\n",
        "    Interpretation: The AUC value is 1.0, indicating that the model has perfect classification ability. AUC ranges from 0.5 to 1.0, where 1.0 indicates a model that perfectly separates positive and negative classes (no classification errors). In this case, your model shows excellent predictive performance.\n"
      ],
      "metadata": {
        "id": "F6D33RgTCeMQ"
      }
    },
    {
      "cell_type": "code",
      "source": [
        "# Plot ROC Curve\n",
        "plt.figure(figsize=(10, 6))\n",
        "plt.plot(fpr, tpr, color='blue', lw=2, label=f'ROC curve (area = {roc_auc:.2f})')\n",
        "plt.plot([0, 1], [0, 1], color='gray', linestyle='--')\n",
        "plt.xlim([0.0, 1.0])\n",
        "plt.ylim([0.0, 1.05])\n",
        "plt.xlabel('False Positive Rate')\n",
        "plt.ylabel('True Positive Rate')\n",
        "plt.title('Receiver Operating Characteristic (ROC) Curve')\n",
        "plt.legend(loc='lower right')\n",
        "plt.show()"
      ],
      "metadata": {
        "colab": {
          "base_uri": "https://localhost:8080/",
          "height": 584
        },
        "id": "1zeW2-sS6Bq-",
        "outputId": "4dec4e1b-d9ff-4784-cd31-1fd1fbd82f0c"
      },
      "execution_count": null,
      "outputs": [
        {
          "output_type": "display_data",
          "data": {
            "text/plain": [
              "<Figure size 1000x600 with 1 Axes>"
            ],
            "image/png": "[encoded data removed]"
          },
          "metadata": {}
        }
      ]
    },
    {
      "cell_type": "markdown",
      "source": [
        "ROC Curve: The blue line on the graph represents the ROC curve, with an area (AUC) of 1.0. The ROC curve displayed appears almost like a horizontal line at the top of the graph. This indicates that at every threshold, the model always achieves a True Positive Rate (TPR) of 1.0 with a False Positive Rate (FPR) of 0. This supports the conclusion that the model can predict accurately without making any classification errors."
      ],
      "metadata": {
        "id": "uj6qHlUpEt_W"
      }
    },
    {
      "cell_type": "markdown",
      "source": [
        "#FICO SCORE"
      ],
      "metadata": {
        "id": "CrWS-VeDWCgV"
      }
    },
    {
      "cell_type": "code",
      "source": [
        "from sklearn.cluster import KMeans\n",
        "import matplotlib.pyplot as plt\n",
        "\n",
        "# Extract the FICO score data\n",
        "fico_scores = data['fico_score'].values.reshape(-1, 1)"
      ],
      "metadata": {
        "id": "OhATMu65WDDN"
      },
      "execution_count": null,
      "outputs": []
    },
    {
      "cell_type": "code",
      "source": [
        "# Define the number of buckets (ratings)\n",
        "n_buckets = 5"
      ],
      "metadata": {
        "id": "dGaQulNmYQve"
      },
      "execution_count": null,
      "outputs": []
    },
    {
      "cell_type": "code",
      "source": [
        "# Apply K-means clustering to create buckets\n",
        "kmeans = KMeans(n_clusters=n_buckets, random_state=42)\n",
        "data['fico_rating'] = kmeans.fit_predict(fico_scores)"
      ],
      "metadata": {
        "colab": {
          "base_uri": "https://localhost:8080/"
        },
        "id": "AIVQGUOYYU2V",
        "outputId": "8863c503-fc0a-4a7e-c83b-9c0277d70ed8"
      },
      "execution_count": null,
      "outputs": [
        {
          "output_type": "stream",
          "name": "stderr",
          "text": [
            "/usr/local/lib/python3.10/dist-packages/sklearn/cluster/_kmeans.py:1416: FutureWarning: The default value of `n_init` will change from 10 to 'auto' in 1.4. Set the value of `n_init` explicitly to suppress the warning\n",
            "  super()._check_params_vs_input(X, default_n_init=10)\n"
          ]
        }
      ]
    },
    {
      "cell_type": "code",
      "source": [
        "# Sort the clusters by the mean FICO score in each bucket (lower score = better rating)\n",
        "cluster_centers = kmeans.cluster_centers_.flatten()\n",
        "cluster_order = np.argsort(cluster_centers)  # Sort the cluster centers from lowest to highest"
      ],
      "metadata": {
        "id": "4sxBF1FeYcC4"
      },
      "execution_count": null,
      "outputs": []
    },
    {
      "cell_type": "code",
      "source": [
        "# Reassign ratings so that lower FICO scores have lower ratings\n",
        "rating_map = {old: new for new, old in enumerate(cluster_order)}\n",
        "data['fico_rating'] = data['fico_rating'].map(rating_map)"
      ],
      "metadata": {
        "id": "oxP25VU6Ygrb"
      },
      "execution_count": null,
      "outputs": []
    },
    {
      "cell_type": "code",
      "source": [
        "# Display rating map and bucket boundaries\n",
        "print(\"Rating Map (FICO Score Buckets):\")\n",
        "for i in range(n_buckets):\n",
        "    bucket_indices = data['fico_rating'] == i\n",
        "    fico_range_min = data.loc[bucket_indices, 'fico_score'].min()\n",
        "    fico_range_max = data.loc[bucket_indices, 'fico_score'].max()\n",
        "    print(f\"Rating {i}: FICO range [{fico_range_min} - {fico_range_max}]\")"
      ],
      "metadata": {
        "colab": {
          "base_uri": "https://localhost:8080/"
        },
        "id": "TiMknaFHYmuZ",
        "outputId": "27d304d6-2879-4d6b-8bb0-29bf128b2ee2"
      },
      "execution_count": null,
      "outputs": [
        {
          "output_type": "stream",
          "name": "stdout",
          "text": [
            "Rating Map (FICO Score Buckets):\n",
            "Rating 0: FICO range [408 - 555]\n",
            "Rating 1: FICO range [556 - 608]\n",
            "Rating 2: FICO range [609 - 654]\n",
            "Rating 3: FICO range [655 - 706]\n",
            "Rating 4: FICO range [707 - 850]\n"
          ]
        }
      ]
    },
    {
      "cell_type": "markdown",
      "source": [
        "**Rating Map (Fico Score Bucket)**\n",
        "1.   Rating 0: FICO range [408 - 555]\n",
        "\n",
        "    Borrowers in this range have low FICO scores, which indicates poor creditworthiness.\n",
        "    These individuals are at a higher risk of default. A rating of 0 suggests that these borrowers are the riskiest to lend to.\n",
        "    This range is typically associated with individuals who may have struggled with managing credit, missed payments, or have a history of defaults.\n",
        "\n",
        "\n",
        "\n",
        "2.   Rating 1: FICO range [556 - 608]\n",
        "\n",
        "    Borrowers with this rating have moderate to poor credit.\n",
        "    While slightly better than Rating 0, this group still poses a relatively high risk of default.\n",
        "    Lenders may offer loans to these borrowers, but likely with higher interest rates or stricter lending conditions.\n",
        "\n",
        "\n",
        "3.   Rating 2: FICO range [609 - 654]\n",
        "\n",
        "    This range indicates fair credit. Borrowers in this category are considered moderate risk.\n",
        "    They are less likely to default than those in Ratings 0 and 1, but they still do not have excellent credit records.\n",
        "    Lenders may view these borrowers as potentially risky but offer more reasonable terms compared to lower-rated categories.\n",
        "\n",
        "\n",
        "4.   Rating 3: FICO range [655 - 706]\n",
        "\n",
        "    Borrowers with this rating have good credit scores and are seen as low-to-moderate risk.\n",
        "    These individuals are more likely to make payments on time, and they have a lower chance of defaulting on their loans.\n",
        "    Lenders often provide more favorable terms to borrowers in this category, such as lower interest rates.\n",
        "\n",
        "\n",
        "5.   Rating 4: FICO range [707 - 850]\n",
        "\n",
        "    This range represents borrowers with excellent credit scores and is the best credit rating in this scale.\n",
        "    Borrowers in this category are considered very low risk and are the least likely to default on loans.\n",
        "    Lenders are more likely to offer the most favorable loan terms, such as the lowest interest rates and highest loan amounts, to these individuals."
      ],
      "metadata": {
        "id": "bYtlCz4_w2Py"
      }
    },
    {
      "cell_type": "code",
      "source": [
        "# Visualize the distribution of ratings\n",
        "plt.hist(data['fico_score'], bins=50, alpha=0.75, label='FICO Scores')\n",
        "plt.title('FICO Score Distribution with Rating Buckets')\n",
        "plt.xlabel('FICO Score')\n",
        "plt.ylabel('Frequency')\n",
        "plt.show()"
      ],
      "metadata": {
        "colab": {
          "base_uri": "https://localhost:8080/",
          "height": 492
        },
        "id": "VKcBrbVkYYmT",
        "outputId": "25e08dd3-6a4b-41a1-cc4d-e56f52aa9db3"
      },
      "execution_count": null,
      "outputs": [
        {
          "output_type": "display_data",
          "data": {
            "text/plain": [
              "<Figure size 640x480 with 1 Axes>"
            ],
            "image/png": "[encoded data removed]"
          },
          "metadata": {}
        }
      ]
    },
    {
      "cell_type": "markdown",
      "source": [
        "Sebagian besar data menunjukkan skor FICO yang terkonsentrasi di kisaran 600-700, yang bisa dianggap sebagai rentang umum untuk skor kredit.\n",
        "Data ini bisa digunakan lebih lanjut untuk menganalisis keterkaitan antara FICO Score dan variabel lain, seperti tingkat default kredit, karena FICO Score berhubungan dengan kelayakan kredit."
      ],
      "metadata": {
        "id": "kK5cBcsSwy5L"
      }
    },
    {
      "cell_type": "code",
      "source": [
        "#Extract and Print Data:\n",
        "#Converts columns 'default' and 'fico_score' to lists and prints their lengths to verify data extraction.\n",
        "x = data['default'].to_list()\n",
        "y = data['fico_score'].to_list()\n",
        "n = len(x)\n",
        "print (len(x), len(y))"
      ],
      "metadata": {
        "colab": {
          "base_uri": "https://localhost:8080/"
        },
        "id": "3rzvNIKNaZZ6",
        "outputId": "2708872c-1d33-4c44-98d7-29aa536ccbff"
      },
      "execution_count": null,
      "outputs": [
        {
          "output_type": "stream",
          "name": "stdout",
          "text": [
            "10000 10000\n"
          ]
        }
      ]
    },
    {
      "cell_type": "code",
      "source": [
        "#Initialize Lists for Cumulative Sums:\n",
        "default = [0 for i in range(851)]\n",
        "total = [0 for i in range(851)]"
      ],
      "metadata": {
        "id": "9FLhIswgAvzt"
      },
      "execution_count": null,
      "outputs": []
    },
    {
      "cell_type": "code",
      "source": [
        "#Populate Cumulative Lists\n",
        "#Aggregates the number of defaults and total occurrences by fico_score values.\n",
        "for i in range(n):\n",
        "    y[i] = int(y[i])\n",
        "    default[y[i]-300] += x[i]\n",
        "    total[y[i]-300] += 1"
      ],
      "metadata": {
        "id": "-3HiNp-aarWR"
      },
      "execution_count": null,
      "outputs": []
    },
    {
      "cell_type": "code",
      "source": [
        "#Computes cumulative sums to facilitate log-likelihood calculations.\n",
        "for i in range(0, 551):\n",
        "    default[i] += default[i-1]\n",
        "    total[i] += total[i-1]"
      ],
      "metadata": {
        "id": "jJhcWZ9qA-Ug"
      },
      "execution_count": null,
      "outputs": []
    },
    {
      "cell_type": "code",
      "source": [
        "#Computes the log-likelihood for given values. This function measures how well a distribution fits the observed data.\n",
        "def log_likelihood(n, k):\n",
        "    p = k/n\n",
        "    if (p==0 or p==1):\n",
        "        return 0\n",
        "    return k*np.log(p)+ (n-k)*np.log(1-p)"
      ],
      "metadata": {
        "id": "Ez6JkqvZBKNG"
      },
      "execution_count": null,
      "outputs": []
    },
    {
      "cell_type": "code",
      "source": [
        "#Initializes a dynamic programming (DP) table to store log-likelihood values and indices for the optimal split.\n",
        "r = 10\n",
        "dp = [[[-10**18, 0] for i in range(551)] for j in range(r+1)]"
      ],
      "metadata": {
        "id": "W5BGz0yBCAQr"
      },
      "execution_count": null,
      "outputs": []
    },
    {
      "cell_type": "code",
      "source": [
        "#Populates the DP table using log-likelihood values to determine the optimal split points for maximizing the overall log-likelihood.\n",
        "for i in range(r+1):\n",
        "    for j in range(551):\n",
        "        if (i==0):\n",
        "            dp[i][j][0] = 0\n",
        "        else:\n",
        "            for k in range(j):\n",
        "                if (total[j]==total[k]):\n",
        "                    continue\n",
        "                if (i==1):\n",
        "                    dp[i][j][0] = log_likelihood(total[j], default[j])\n",
        "                else:\n",
        "                    if (dp[i][j][0] < (dp[i-1][k][0] + log_likelihood(total[j]-total[k], default[j] - default[k]))):\n",
        "                        dp[i][j][0] = log_likelihood(total[j]-total[k], default[j]-default[k]) + dp[i-1][k][0]\n",
        "                        dp[i][j][1] = k"
      ],
      "metadata": {
        "id": "LK2oWPCOCCoV"
      },
      "execution_count": null,
      "outputs": []
    },
    {
      "cell_type": "code",
      "source": [
        "#Prints the maximum log-likelihood value, rounded to 4 decimal places, representing the best fit for the data.\n",
        "print (round(dp[r][550][0], 4))"
      ],
      "metadata": {
        "colab": {
          "base_uri": "https://localhost:8080/"
        },
        "id": "Lx42iwMRCF1l",
        "outputId": "de03ae85-584e-406e-9587-48b518717c1a"
      },
      "execution_count": null,
      "outputs": [
        {
          "output_type": "stream",
          "name": "stdout",
          "text": [
            "-4217.8245\n"
          ]
        }
      ]
    },
    {
      "cell_type": "markdown",
      "source": [
        "The value -4217.8245 indicates how well the model fits the data for the particular FICO score range of 550 in the context of the current rating model. Although it's a negative value, this is expected in log-likelihood models, and the value helps guide model optimization by comparing it against alternative models or configurations."
      ],
      "metadata": {
        "id": "60CoDMEQvqXx"
      }
    },
    {
      "cell_type": "code",
      "source": [
        "#Traces back through the DP table to find the optimal split points for the data, which are added to list l.\n",
        "k = 550\n",
        "l = []\n",
        "while r >= 0:\n",
        "    l.append(k+300)\n",
        "    k = dp[r][k][1]\n",
        "    r -= 1"
      ],
      "metadata": {
        "id": "dArDq9uRCINz"
      },
      "execution_count": null,
      "outputs": []
    },
    {
      "cell_type": "code",
      "source": [
        "#Prints the optimal split points found, indicating the best places to divide the data to maximize the log-likelihood.\n",
        "print(\"Optimal split points:\", l)"
      ],
      "metadata": {
        "colab": {
          "base_uri": "https://localhost:8080/"
        },
        "id": "axPGsMivCLKL",
        "outputId": "02349678-eba0-42a0-b57e-0a8a095c99c6"
      },
      "execution_count": null,
      "outputs": [
        {
          "output_type": "stream",
          "name": "stdout",
          "text": [
            "Optimal split points: [850, 753, 752, 732, 696, 649, 611, 580, 552, 520, 300]\n"
          ]
        }
      ]
    },
    {
      "cell_type": "markdown",
      "source": [
        "These are the FICO score values that define the boundaries between different categories (buckets) or ratings. In other words, each split point represents a threshold where one rating ends and the next one begins.\n",
        "\n",
        "This is the list of FICO score thresholds, arranged in descending order from the highest possible FICO score (850) to the lowest score (300).\n",
        "These values split the FICO scores into multiple ranges or segments, and each segment will correspond to a specific rating or risk category."
      ],
      "metadata": {
        "id": "_xnMUA6Gu8Sq"
      }
    }
  ],
  "metadata": {
    "colab": {
      "provenance": []
    },
    "kernelspec": {
      "display_name": "Python 3",
      "name": "python3"
    }
  },
  "nbformat": 4,
  "nbformat_minor": 0
}